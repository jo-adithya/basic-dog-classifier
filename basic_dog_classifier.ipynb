{
  "nbformat": 4,
  "nbformat_minor": 0,
  "metadata": {
    "colab": {
      "provenance": [],
      "authorship_tag": "ABX9TyOVpXxPxnGctiQpkF/3D4Fj",
      "include_colab_link": true
    },
    "kernelspec": {
      "name": "python3",
      "display_name": "Python 3"
    },
    "language_info": {
      "name": "python"
    }
  },
  "cells": [
    {
      "cell_type": "markdown",
      "metadata": {
        "id": "view-in-github",
        "colab_type": "text"
      },
      "source": [
        "<a href=\"https://colab.research.google.com/github/jo-adithya/basic-dog-classifier/blob/main/basic_dog_classifier.ipynb\" target=\"_parent\"><img src=\"https://colab.research.google.com/assets/colab-badge.svg\" alt=\"Open In Colab\"/></a>"
      ]
    },
    {
      "cell_type": "markdown",
      "source": [
        "# Basic Dog Classifier"
      ],
      "metadata": {
        "id": "FSTNFgnsyzqw"
      }
    },
    {
      "cell_type": "code",
      "source": [],
      "metadata": {
        "id": "tLZI7PCD2DOa"
      },
      "execution_count": null,
      "outputs": []
    }
  ]
}